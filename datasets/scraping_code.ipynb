{
  "nbformat": 4,
  "nbformat_minor": 0,
  "metadata": {
    "colab": {
      "provenance": []
    },
    "kernelspec": {
      "name": "python3",
      "display_name": "Python 3"
    },
    "language_info": {
      "name": "python"
    }
  },
  "cells": [
    {
      "cell_type": "markdown",
      "source": [
        "- **Nama:** Dewi Safira Permata Sari\n",
        "- **Email:** dwsafperri@gmail.com\n",
        "- **ID Dicoding:** dwsafperri\n",
        "- **ID Cohort:** MC009D5X0787"
      ],
      "metadata": {
        "id": "Vg_chr29q7fb"
      }
    },
    {
      "cell_type": "markdown",
      "source": [
        "# Scraping Aplikasi Wondr by BNI\n",
        "\n",
        "https://play.google.com/store/apps/details?id=id.bni.wondr&hl=id"
      ],
      "metadata": {
        "id": "JmJR4SQarK_W"
      }
    },
    {
      "cell_type": "markdown",
      "source": [
        "##1. Install Library"
      ],
      "metadata": {
        "id": "7gBYoRyBrR3u"
      }
    },
    {
      "cell_type": "code",
      "source": [
        "!pip install google-play-scraper"
      ],
      "metadata": {
        "colab": {
          "base_uri": "https://localhost:8080/"
        },
        "id": "IedFmtT3rVlH",
        "outputId": "b6c91504-8e7f-4ac5-8d6b-8c1d18d76dd1"
      },
      "execution_count": 3,
      "outputs": [
        {
          "output_type": "stream",
          "name": "stdout",
          "text": [
            "Requirement already satisfied: google-play-scraper in /usr/local/lib/python3.11/dist-packages (1.2.7)\n"
          ]
        }
      ]
    },
    {
      "cell_type": "markdown",
      "source": [
        "##2. Import Library"
      ],
      "metadata": {
        "id": "2OtdLKuFrmCJ"
      }
    },
    {
      "cell_type": "code",
      "execution_count": 4,
      "metadata": {
        "id": "HhlUYYP_qUbf"
      },
      "outputs": [],
      "source": [
        "# Mengimpor pustaka google_play_scraper untuk mengakses ulasan dan informasi aplikasi dari Google Play Store.\n",
        "from google_play_scraper import app, reviews_all, Sort"
      ]
    },
    {
      "cell_type": "code",
      "source": [
        "import pandas as pd  # Digunakan untuk manipulasi dan analisis data dalam bentuk tabel (dataframe)\n",
        "pd.options.mode.chained_assignment = None  # Menonaktifkan peringatan terkait chained assignment pada dataframe\n",
        "import numpy as np  # Digunakan untuk melakukan komputasi numerik dan manipulasi array\n",
        "seed = 0\n",
        "np.random.seed(seed)  # Mengatur nilai seed agar hasil random dapat direproduksi\n",
        "\n",
        "import matplotlib.pyplot as plt  # Digunakan untuk membuat visualisasi data berupa grafik\n",
        "import seaborn as sns  # Digunakan untuk visualisasi data statistik dengan tampilan yang lebih menarik\n",
        "\n",
        "import datetime as dt  # Digunakan untuk memanipulasi data yang berhubungan dengan waktu dan tanggal\n",
        "import re  # Modul untuk memproses teks menggunakan pola ekspresi reguler (regex)\n",
        "import string  # Berisi konstanta yang berkaitan dengan karakter teks, seperti tanda baca\n",
        "\n",
        "from nltk.tokenize import word_tokenize  # Berfungsi untuk memecah teks menjadi token atau kata-kata\n",
        "from nltk.corpus import stopwords  # Menyediakan daftar kata umum (stopwords) yang dapat dihapus dari teks\n",
        "\n",
        "!pip install sastrawi\n",
        "from Sastrawi.Stemmer.StemmerFactory import StemmerFactory  # Digunakan untuk melakukan stemming (menghilangkan imbuhan) pada kata-kata dalam bahasa Indonesia\n",
        "from Sastrawi.StopWordRemover.StopWordRemoverFactory import StopWordRemoverFactory  # Digunakan untuk menghapus kata-kata umum (stopwords) dalam bahasa Indonesia\n",
        "\n",
        "from wordcloud import WordCloud  # Digunakan untuk membuat visualisasi data teks dalam bentuk awan kata (word cloud)"
      ],
      "metadata": {
        "colab": {
          "base_uri": "https://localhost:8080/"
        },
        "id": "KsN2hG7wrrMi",
        "outputId": "a54b0a54-7916-4713-83ce-fe0a2fad5200"
      },
      "execution_count": 6,
      "outputs": [
        {
          "output_type": "stream",
          "name": "stdout",
          "text": [
            "Collecting sastrawi\n",
            "  Downloading Sastrawi-1.0.1-py2.py3-none-any.whl.metadata (909 bytes)\n",
            "Downloading Sastrawi-1.0.1-py2.py3-none-any.whl (209 kB)\n",
            "\u001b[2K   \u001b[90m━━━━━━━━━━━━━━━━━━━━━━━━━━━━━━━━━━━━━━━━\u001b[0m \u001b[32m209.7/209.7 kB\u001b[0m \u001b[31m3.8 MB/s\u001b[0m eta \u001b[36m0:00:00\u001b[0m\n",
            "\u001b[?25hInstalling collected packages: sastrawi\n",
            "Successfully installed sastrawi-1.0.1\n"
          ]
        }
      ]
    },
    {
      "cell_type": "code",
      "source": [
        "import nltk  # Mengimpor pustaka Natural Language Toolkit (NLTK) yang digunakan untuk pemrosesan bahasa alami\n",
        "\n",
        "nltk.download('punkt_tab')  # Mengunduh data pendukung yang dibutuhkan untuk proses tokenisasi teks (pemecahan teks menjadi kata atau kalimat)\n",
        "nltk.download('stopwords')  # Mengunduh daftar stopwords, yaitu kata-kata umum yang sering diabaikan dalam analisis teks"
      ],
      "metadata": {
        "colab": {
          "base_uri": "https://localhost:8080/"
        },
        "id": "W0-zr6uir3CH",
        "outputId": "3ac7bd84-4246-42c7-9395-afbb97b5eea3"
      },
      "execution_count": 7,
      "outputs": [
        {
          "output_type": "stream",
          "name": "stderr",
          "text": [
            "[nltk_data] Downloading package punkt_tab to /root/nltk_data...\n",
            "[nltk_data]   Unzipping tokenizers/punkt_tab.zip.\n",
            "[nltk_data] Downloading package stopwords to /root/nltk_data...\n",
            "[nltk_data]   Unzipping corpora/stopwords.zip.\n"
          ]
        },
        {
          "output_type": "execute_result",
          "data": {
            "text/plain": [
              "True"
            ]
          },
          "metadata": {},
          "execution_count": 7
        }
      ]
    },
    {
      "cell_type": "markdown",
      "source": [
        "## 3. Mengambil semua ulasan dari aplikasi dengan ID 'id.bni.wondr' di Google Play Store.\n"
      ],
      "metadata": {
        "id": "XTZ5FJXQr65u"
      }
    },
    {
      "cell_type": "code",
      "source": [
        "# Proses scraping mungkin memerlukan beberapa saat tergantung pada jumlah ulasan yang ada.\n",
        "scrapreview = reviews_all(\n",
        "    'id.bni.wondr',          # ID aplikasi\n",
        "    lang='id',             # Bahasa ulasan (default: 'en')\n",
        "    country='id',          # Negara (default: 'us')\n",
        "    sort=Sort.MOST_RELEVANT, # Urutan ulasan (default: Sort.MOST_RELEVANT)\n",
        "    count=100000             # Jumlah maksimum ulasan yang ingin diambil\n",
        ")"
      ],
      "metadata": {
        "id": "GlrFxxbOq_PT"
      },
      "execution_count": 8,
      "outputs": []
    },
    {
      "cell_type": "code",
      "source": [
        "# Menyimpan data ulasan ke dalam file CSV\n",
        "import csv\n",
        "\n",
        "with open('ulasan_wondr_bni.csv', mode='w', newline='', encoding='utf-8') as file:\n",
        "    writer = csv.writer(file)\n",
        "    writer.writerow(['Review'])\n",
        "    for review in scrapreview:\n",
        "        writer.writerow([review['content']])"
      ],
      "metadata": {
        "id": "9SCLAdVLqbGf"
      },
      "execution_count": 9,
      "outputs": []
    },
    {
      "cell_type": "markdown",
      "source": [
        "## 4. Preprocessing Data"
      ],
      "metadata": {
        "id": "8oBicwTdsZ6g"
      }
    },
    {
      "cell_type": "code",
      "source": [
        "app_reviews_df = pd.DataFrame(scrapreview)\n",
        "app_reviews_df.shape\n",
        "app_reviews_df.head()\n",
        "app_reviews_df.to_csv('ulasan_wondr_bni.csv', index=False)"
      ],
      "metadata": {
        "id": "Hxt2T-RnscbY"
      },
      "execution_count": 10,
      "outputs": []
    },
    {
      "cell_type": "code",
      "source": [
        "app_reviews_df = pd.DataFrame(scrapreview)\n",
        "\n",
        "jumlah_ulasan, jumlah_kolom = app_reviews_df.shape\n",
        "\n",
        "df = pd.read_csv(\"/content/ulasan_wondr_bni.csv\")\n",
        "df.head()"
      ],
      "metadata": {
        "colab": {
          "base_uri": "https://localhost:8080/",
          "height": 380
        },
        "id": "DdfUKgsxsoWs",
        "outputId": "fc2cd8c0-91c2-41d4-c475-3d7090100c0b"
      },
      "execution_count": 13,
      "outputs": [
        {
          "output_type": "execute_result",
          "data": {
            "text/plain": [
              "                               reviewId         userName  \\\n",
              "0  8be308c0-ea86-45cf-a907-2644548a7ab4  Pengguna Google   \n",
              "1  7425ba80-3d5d-4fd8-ad9c-6e2373ddd48f  Pengguna Google   \n",
              "2  3e0c5607-1441-44b0-b9e6-0eaa3fbaf930  Pengguna Google   \n",
              "3  73339b0a-a601-4a50-b621-fc0c3b95233e  Pengguna Google   \n",
              "4  ba470df3-268f-41e4-b69a-6f9981256bfc  Pengguna Google   \n",
              "\n",
              "                                           userImage  \\\n",
              "0  https://play-lh.googleusercontent.com/EGemoI2N...   \n",
              "1  https://play-lh.googleusercontent.com/EGemoI2N...   \n",
              "2  https://play-lh.googleusercontent.com/EGemoI2N...   \n",
              "3  https://play-lh.googleusercontent.com/EGemoI2N...   \n",
              "4  https://play-lh.googleusercontent.com/EGemoI2N...   \n",
              "\n",
              "                                             content  score  thumbsUpCount  \\\n",
              "0  mudah d pahami,dan registrasi ny jg gk ribet. ...      1             16   \n",
              "1  Secara keseluruhan sdh oke. Hanya saja Tolong ...      4              5   \n",
              "2  verifikasi wajah selalu gagal trus...udh serin...      1             21   \n",
              "3  Baru beberapa hari menggunakan, masih kurang t...      3             42   \n",
              "4  Pendaftarannya kok ribet amat, padahal sudah p...      3             18   \n",
              "\n",
              "  reviewCreatedVersion                   at  \\\n",
              "0                1.3.0  2025-03-17 09:34:29   \n",
              "1                1.3.1  2025-04-03 21:35:08   \n",
              "2                1.3.1  2025-03-30 02:50:57   \n",
              "3                1.3.1  2025-04-03 02:54:08   \n",
              "4                1.3.1  2025-03-29 14:55:57   \n",
              "\n",
              "                                        replyContent            repliedAt  \\\n",
              "0  Hai Kak Alex Faizin, maaf atas ketidaknyamanan...  2025-03-17 09:46:44   \n",
              "1  Hai Kak Lisa Mar, maaf atas ketidaknyamanannya...  2025-04-03 23:27:56   \n",
              "2  Hai Kak Gema, maaf atas kendalanya ya. Supaya ...  2025-03-30 04:41:41   \n",
              "3  Hai Kak Heris Fadillah, mohon maaf atas ketida...  2025-04-03 02:57:57   \n",
              "4  Halo Kak IG: obi_nope, maaf atas kendalanya. P...  2025-03-29 15:22:28   \n",
              "\n",
              "  appVersion  \n",
              "0      1.3.0  \n",
              "1      1.3.1  \n",
              "2      1.3.1  \n",
              "3      1.3.1  \n",
              "4      1.3.1  "
            ],
            "text/html": [
              "\n",
              "  <div id=\"df-41b58408-a8a8-45bc-98e1-4d1a6931139a\" class=\"colab-df-container\">\n",
              "    <div>\n",
              "<style scoped>\n",
              "    .dataframe tbody tr th:only-of-type {\n",
              "        vertical-align: middle;\n",
              "    }\n",
              "\n",
              "    .dataframe tbody tr th {\n",
              "        vertical-align: top;\n",
              "    }\n",
              "\n",
              "    .dataframe thead th {\n",
              "        text-align: right;\n",
              "    }\n",
              "</style>\n",
              "<table border=\"1\" class=\"dataframe\">\n",
              "  <thead>\n",
              "    <tr style=\"text-align: right;\">\n",
              "      <th></th>\n",
              "      <th>reviewId</th>\n",
              "      <th>userName</th>\n",
              "      <th>userImage</th>\n",
              "      <th>content</th>\n",
              "      <th>score</th>\n",
              "      <th>thumbsUpCount</th>\n",
              "      <th>reviewCreatedVersion</th>\n",
              "      <th>at</th>\n",
              "      <th>replyContent</th>\n",
              "      <th>repliedAt</th>\n",
              "      <th>appVersion</th>\n",
              "    </tr>\n",
              "  </thead>\n",
              "  <tbody>\n",
              "    <tr>\n",
              "      <th>0</th>\n",
              "      <td>8be308c0-ea86-45cf-a907-2644548a7ab4</td>\n",
              "      <td>Pengguna Google</td>\n",
              "      <td>https://play-lh.googleusercontent.com/EGemoI2N...</td>\n",
              "      <td>mudah d pahami,dan registrasi ny jg gk ribet. ...</td>\n",
              "      <td>1</td>\n",
              "      <td>16</td>\n",
              "      <td>1.3.0</td>\n",
              "      <td>2025-03-17 09:34:29</td>\n",
              "      <td>Hai Kak Alex Faizin, maaf atas ketidaknyamanan...</td>\n",
              "      <td>2025-03-17 09:46:44</td>\n",
              "      <td>1.3.0</td>\n",
              "    </tr>\n",
              "    <tr>\n",
              "      <th>1</th>\n",
              "      <td>7425ba80-3d5d-4fd8-ad9c-6e2373ddd48f</td>\n",
              "      <td>Pengguna Google</td>\n",
              "      <td>https://play-lh.googleusercontent.com/EGemoI2N...</td>\n",
              "      <td>Secara keseluruhan sdh oke. Hanya saja Tolong ...</td>\n",
              "      <td>4</td>\n",
              "      <td>5</td>\n",
              "      <td>1.3.1</td>\n",
              "      <td>2025-04-03 21:35:08</td>\n",
              "      <td>Hai Kak Lisa Mar, maaf atas ketidaknyamanannya...</td>\n",
              "      <td>2025-04-03 23:27:56</td>\n",
              "      <td>1.3.1</td>\n",
              "    </tr>\n",
              "    <tr>\n",
              "      <th>2</th>\n",
              "      <td>3e0c5607-1441-44b0-b9e6-0eaa3fbaf930</td>\n",
              "      <td>Pengguna Google</td>\n",
              "      <td>https://play-lh.googleusercontent.com/EGemoI2N...</td>\n",
              "      <td>verifikasi wajah selalu gagal trus...udh serin...</td>\n",
              "      <td>1</td>\n",
              "      <td>21</td>\n",
              "      <td>1.3.1</td>\n",
              "      <td>2025-03-30 02:50:57</td>\n",
              "      <td>Hai Kak Gema, maaf atas kendalanya ya. Supaya ...</td>\n",
              "      <td>2025-03-30 04:41:41</td>\n",
              "      <td>1.3.1</td>\n",
              "    </tr>\n",
              "    <tr>\n",
              "      <th>3</th>\n",
              "      <td>73339b0a-a601-4a50-b621-fc0c3b95233e</td>\n",
              "      <td>Pengguna Google</td>\n",
              "      <td>https://play-lh.googleusercontent.com/EGemoI2N...</td>\n",
              "      <td>Baru beberapa hari menggunakan, masih kurang t...</td>\n",
              "      <td>3</td>\n",
              "      <td>42</td>\n",
              "      <td>1.3.1</td>\n",
              "      <td>2025-04-03 02:54:08</td>\n",
              "      <td>Hai Kak Heris Fadillah, mohon maaf atas ketida...</td>\n",
              "      <td>2025-04-03 02:57:57</td>\n",
              "      <td>1.3.1</td>\n",
              "    </tr>\n",
              "    <tr>\n",
              "      <th>4</th>\n",
              "      <td>ba470df3-268f-41e4-b69a-6f9981256bfc</td>\n",
              "      <td>Pengguna Google</td>\n",
              "      <td>https://play-lh.googleusercontent.com/EGemoI2N...</td>\n",
              "      <td>Pendaftarannya kok ribet amat, padahal sudah p...</td>\n",
              "      <td>3</td>\n",
              "      <td>18</td>\n",
              "      <td>1.3.1</td>\n",
              "      <td>2025-03-29 14:55:57</td>\n",
              "      <td>Halo Kak IG: obi_nope, maaf atas kendalanya. P...</td>\n",
              "      <td>2025-03-29 15:22:28</td>\n",
              "      <td>1.3.1</td>\n",
              "    </tr>\n",
              "  </tbody>\n",
              "</table>\n",
              "</div>\n",
              "    <div class=\"colab-df-buttons\">\n",
              "\n",
              "  <div class=\"colab-df-container\">\n",
              "    <button class=\"colab-df-convert\" onclick=\"convertToInteractive('df-41b58408-a8a8-45bc-98e1-4d1a6931139a')\"\n",
              "            title=\"Convert this dataframe to an interactive table.\"\n",
              "            style=\"display:none;\">\n",
              "\n",
              "  <svg xmlns=\"http://www.w3.org/2000/svg\" height=\"24px\" viewBox=\"0 -960 960 960\">\n",
              "    <path d=\"M120-120v-720h720v720H120Zm60-500h600v-160H180v160Zm220 220h160v-160H400v160Zm0 220h160v-160H400v160ZM180-400h160v-160H180v160Zm440 0h160v-160H620v160ZM180-180h160v-160H180v160Zm440 0h160v-160H620v160Z\"/>\n",
              "  </svg>\n",
              "    </button>\n",
              "\n",
              "  <style>\n",
              "    .colab-df-container {\n",
              "      display:flex;\n",
              "      gap: 12px;\n",
              "    }\n",
              "\n",
              "    .colab-df-convert {\n",
              "      background-color: #E8F0FE;\n",
              "      border: none;\n",
              "      border-radius: 50%;\n",
              "      cursor: pointer;\n",
              "      display: none;\n",
              "      fill: #1967D2;\n",
              "      height: 32px;\n",
              "      padding: 0 0 0 0;\n",
              "      width: 32px;\n",
              "    }\n",
              "\n",
              "    .colab-df-convert:hover {\n",
              "      background-color: #E2EBFA;\n",
              "      box-shadow: 0px 1px 2px rgba(60, 64, 67, 0.3), 0px 1px 3px 1px rgba(60, 64, 67, 0.15);\n",
              "      fill: #174EA6;\n",
              "    }\n",
              "\n",
              "    .colab-df-buttons div {\n",
              "      margin-bottom: 4px;\n",
              "    }\n",
              "\n",
              "    [theme=dark] .colab-df-convert {\n",
              "      background-color: #3B4455;\n",
              "      fill: #D2E3FC;\n",
              "    }\n",
              "\n",
              "    [theme=dark] .colab-df-convert:hover {\n",
              "      background-color: #434B5C;\n",
              "      box-shadow: 0px 1px 3px 1px rgba(0, 0, 0, 0.15);\n",
              "      filter: drop-shadow(0px 1px 2px rgba(0, 0, 0, 0.3));\n",
              "      fill: #FFFFFF;\n",
              "    }\n",
              "  </style>\n",
              "\n",
              "    <script>\n",
              "      const buttonEl =\n",
              "        document.querySelector('#df-41b58408-a8a8-45bc-98e1-4d1a6931139a button.colab-df-convert');\n",
              "      buttonEl.style.display =\n",
              "        google.colab.kernel.accessAllowed ? 'block' : 'none';\n",
              "\n",
              "      async function convertToInteractive(key) {\n",
              "        const element = document.querySelector('#df-41b58408-a8a8-45bc-98e1-4d1a6931139a');\n",
              "        const dataTable =\n",
              "          await google.colab.kernel.invokeFunction('convertToInteractive',\n",
              "                                                    [key], {});\n",
              "        if (!dataTable) return;\n",
              "\n",
              "        const docLinkHtml = 'Like what you see? Visit the ' +\n",
              "          '<a target=\"_blank\" href=https://colab.research.google.com/notebooks/data_table.ipynb>data table notebook</a>'\n",
              "          + ' to learn more about interactive tables.';\n",
              "        element.innerHTML = '';\n",
              "        dataTable['output_type'] = 'display_data';\n",
              "        await google.colab.output.renderOutput(dataTable, element);\n",
              "        const docLink = document.createElement('div');\n",
              "        docLink.innerHTML = docLinkHtml;\n",
              "        element.appendChild(docLink);\n",
              "      }\n",
              "    </script>\n",
              "  </div>\n",
              "\n",
              "\n",
              "<div id=\"df-c49ed280-0e36-488f-81e1-711a643d64ef\">\n",
              "  <button class=\"colab-df-quickchart\" onclick=\"quickchart('df-c49ed280-0e36-488f-81e1-711a643d64ef')\"\n",
              "            title=\"Suggest charts\"\n",
              "            style=\"display:none;\">\n",
              "\n",
              "<svg xmlns=\"http://www.w3.org/2000/svg\" height=\"24px\"viewBox=\"0 0 24 24\"\n",
              "     width=\"24px\">\n",
              "    <g>\n",
              "        <path d=\"M19 3H5c-1.1 0-2 .9-2 2v14c0 1.1.9 2 2 2h14c1.1 0 2-.9 2-2V5c0-1.1-.9-2-2-2zM9 17H7v-7h2v7zm4 0h-2V7h2v10zm4 0h-2v-4h2v4z\"/>\n",
              "    </g>\n",
              "</svg>\n",
              "  </button>\n",
              "\n",
              "<style>\n",
              "  .colab-df-quickchart {\n",
              "      --bg-color: #E8F0FE;\n",
              "      --fill-color: #1967D2;\n",
              "      --hover-bg-color: #E2EBFA;\n",
              "      --hover-fill-color: #174EA6;\n",
              "      --disabled-fill-color: #AAA;\n",
              "      --disabled-bg-color: #DDD;\n",
              "  }\n",
              "\n",
              "  [theme=dark] .colab-df-quickchart {\n",
              "      --bg-color: #3B4455;\n",
              "      --fill-color: #D2E3FC;\n",
              "      --hover-bg-color: #434B5C;\n",
              "      --hover-fill-color: #FFFFFF;\n",
              "      --disabled-bg-color: #3B4455;\n",
              "      --disabled-fill-color: #666;\n",
              "  }\n",
              "\n",
              "  .colab-df-quickchart {\n",
              "    background-color: var(--bg-color);\n",
              "    border: none;\n",
              "    border-radius: 50%;\n",
              "    cursor: pointer;\n",
              "    display: none;\n",
              "    fill: var(--fill-color);\n",
              "    height: 32px;\n",
              "    padding: 0;\n",
              "    width: 32px;\n",
              "  }\n",
              "\n",
              "  .colab-df-quickchart:hover {\n",
              "    background-color: var(--hover-bg-color);\n",
              "    box-shadow: 0 1px 2px rgba(60, 64, 67, 0.3), 0 1px 3px 1px rgba(60, 64, 67, 0.15);\n",
              "    fill: var(--button-hover-fill-color);\n",
              "  }\n",
              "\n",
              "  .colab-df-quickchart-complete:disabled,\n",
              "  .colab-df-quickchart-complete:disabled:hover {\n",
              "    background-color: var(--disabled-bg-color);\n",
              "    fill: var(--disabled-fill-color);\n",
              "    box-shadow: none;\n",
              "  }\n",
              "\n",
              "  .colab-df-spinner {\n",
              "    border: 2px solid var(--fill-color);\n",
              "    border-color: transparent;\n",
              "    border-bottom-color: var(--fill-color);\n",
              "    animation:\n",
              "      spin 1s steps(1) infinite;\n",
              "  }\n",
              "\n",
              "  @keyframes spin {\n",
              "    0% {\n",
              "      border-color: transparent;\n",
              "      border-bottom-color: var(--fill-color);\n",
              "      border-left-color: var(--fill-color);\n",
              "    }\n",
              "    20% {\n",
              "      border-color: transparent;\n",
              "      border-left-color: var(--fill-color);\n",
              "      border-top-color: var(--fill-color);\n",
              "    }\n",
              "    30% {\n",
              "      border-color: transparent;\n",
              "      border-left-color: var(--fill-color);\n",
              "      border-top-color: var(--fill-color);\n",
              "      border-right-color: var(--fill-color);\n",
              "    }\n",
              "    40% {\n",
              "      border-color: transparent;\n",
              "      border-right-color: var(--fill-color);\n",
              "      border-top-color: var(--fill-color);\n",
              "    }\n",
              "    60% {\n",
              "      border-color: transparent;\n",
              "      border-right-color: var(--fill-color);\n",
              "    }\n",
              "    80% {\n",
              "      border-color: transparent;\n",
              "      border-right-color: var(--fill-color);\n",
              "      border-bottom-color: var(--fill-color);\n",
              "    }\n",
              "    90% {\n",
              "      border-color: transparent;\n",
              "      border-bottom-color: var(--fill-color);\n",
              "    }\n",
              "  }\n",
              "</style>\n",
              "\n",
              "  <script>\n",
              "    async function quickchart(key) {\n",
              "      const quickchartButtonEl =\n",
              "        document.querySelector('#' + key + ' button');\n",
              "      quickchartButtonEl.disabled = true;  // To prevent multiple clicks.\n",
              "      quickchartButtonEl.classList.add('colab-df-spinner');\n",
              "      try {\n",
              "        const charts = await google.colab.kernel.invokeFunction(\n",
              "            'suggestCharts', [key], {});\n",
              "      } catch (error) {\n",
              "        console.error('Error during call to suggestCharts:', error);\n",
              "      }\n",
              "      quickchartButtonEl.classList.remove('colab-df-spinner');\n",
              "      quickchartButtonEl.classList.add('colab-df-quickchart-complete');\n",
              "    }\n",
              "    (() => {\n",
              "      let quickchartButtonEl =\n",
              "        document.querySelector('#df-c49ed280-0e36-488f-81e1-711a643d64ef button');\n",
              "      quickchartButtonEl.style.display =\n",
              "        google.colab.kernel.accessAllowed ? 'block' : 'none';\n",
              "    })();\n",
              "  </script>\n",
              "</div>\n",
              "\n",
              "    </div>\n",
              "  </div>\n"
            ],
            "application/vnd.google.colaboratory.intrinsic+json": {
              "type": "dataframe",
              "variable_name": "df",
              "summary": "{\n  \"name\": \"df\",\n  \"rows\": 32636,\n  \"fields\": [\n    {\n      \"column\": \"reviewId\",\n      \"properties\": {\n        \"dtype\": \"string\",\n        \"num_unique_values\": 32636,\n        \"samples\": [\n          \"12589f16-5ac1-4c7c-92ca-d23e6446aae4\",\n          \"5e743719-1624-4fbd-8b10-e88deca2db9f\",\n          \"1efec241-86a6-41ef-a6dc-a04ec3c19a89\"\n        ],\n        \"semantic_type\": \"\",\n        \"description\": \"\"\n      }\n    },\n    {\n      \"column\": \"userName\",\n      \"properties\": {\n        \"dtype\": \"category\",\n        \"num_unique_values\": 1134,\n        \"samples\": [\n          \"Jumran Muharramm\",\n          \"Siti Nurhasanah\",\n          \"Delapan Anam\"\n        ],\n        \"semantic_type\": \"\",\n        \"description\": \"\"\n      }\n    },\n    {\n      \"column\": \"userImage\",\n      \"properties\": {\n        \"dtype\": \"category\",\n        \"num_unique_values\": 1135,\n        \"samples\": [\n          \"https://play-lh.googleusercontent.com/a/ACg8ocISqhlDzbSz5nqUBjumFcBFbkB29ZfEUh99lOvk111lrSewLA=mo\",\n          \"https://play-lh.googleusercontent.com/a/ACg8ocJE7pWqiV30BwcBxFXoAvmXYEXtR9O_oRv9NSj3i0gADN8cIgg=mo\",\n          \"https://play-lh.googleusercontent.com/a-/ALV-UjWVDmAG6ojtjR6IQEFuXbwKIIREml7Idf7IyxLDUcmKaqWV2fjH\"\n        ],\n        \"semantic_type\": \"\",\n        \"description\": \"\"\n      }\n    },\n    {\n      \"column\": \"content\",\n      \"properties\": {\n        \"dtype\": \"string\",\n        \"num_unique_values\": 25759,\n        \"samples\": [\n          \"is the best\",\n          \"Ini maksudnya gimana ya aplikasi bni mobil mau di ganti atau aktif semua?kok jadi tambah aplikasi,bukannya tambah simple kok malah harus pindah2 aplikasi\",\n          \"sangat membantu dgn tampilan menarik\"\n        ],\n        \"semantic_type\": \"\",\n        \"description\": \"\"\n      }\n    },\n    {\n      \"column\": \"score\",\n      \"properties\": {\n        \"dtype\": \"number\",\n        \"std\": 1,\n        \"min\": 1,\n        \"max\": 5,\n        \"num_unique_values\": 5,\n        \"samples\": [\n          4,\n          5,\n          3\n        ],\n        \"semantic_type\": \"\",\n        \"description\": \"\"\n      }\n    },\n    {\n      \"column\": \"thumbsUpCount\",\n      \"properties\": {\n        \"dtype\": \"number\",\n        \"std\": 9,\n        \"min\": 0,\n        \"max\": 457,\n        \"num_unique_values\": 117,\n        \"samples\": [\n          111,\n          18,\n          207\n        ],\n        \"semantic_type\": \"\",\n        \"description\": \"\"\n      }\n    },\n    {\n      \"column\": \"reviewCreatedVersion\",\n      \"properties\": {\n        \"dtype\": \"category\",\n        \"num_unique_values\": 7,\n        \"samples\": [\n          \"1.3.0\",\n          \"1.3.1\",\n          \"1.0.1\"\n        ],\n        \"semantic_type\": \"\",\n        \"description\": \"\"\n      }\n    },\n    {\n      \"column\": \"at\",\n      \"properties\": {\n        \"dtype\": \"object\",\n        \"num_unique_values\": 32444,\n        \"samples\": [\n          \"2024-12-13 04:46:42\",\n          \"2025-03-07 10:31:43\",\n          \"2024-07-02 04:58:23\"\n        ],\n        \"semantic_type\": \"\",\n        \"description\": \"\"\n      }\n    },\n    {\n      \"column\": \"replyContent\",\n      \"properties\": {\n        \"dtype\": \"string\",\n        \"num_unique_values\": 18990,\n        \"samples\": [\n          \"Halo Kak Xcone60, maaf untuk kendalanya. Pastikan hal berikut: 1. Foto tdk keluar frame 2. Cahaya tdk backlight 3. Tdk pakai aksesoris yang menutupi wajah 4. Menggunakan mode fokus & tidak menggunakan efek 5. Pengambilan foto tidak terlalu jauh dari titik kamera. Mohon dicoba kembali, semoga berhasil. Tks. -CX Adel-\",\n          \"Hai Kak Iwa Kiwekz, terima kasih telah menggunakan Wondr by BNI. Kakak bisa aktivasi Wondr by BNI menggunakan nomor Luar Negeri (kecuali Rusia). Pastikan data kependudukan yang terdaftar adalah e-KTP dan nomor yang terdaftar di sistem sesuai dengan yang akan didaftarkan. Kalau tidak ada kendala mohon kesediaan Kakak kasih bintang 5. Tks -Lasma-\",\n          \"Halo Kak Chaterina Djatti, terima kasih atas kepercayaan Kakak menggunakan wondr by BNI. Kami dengan senang hati akan memberikan pelayanan yang terbaik untuk Kakak. Tks. -CX April-\"\n        ],\n        \"semantic_type\": \"\",\n        \"description\": \"\"\n      }\n    },\n    {\n      \"column\": \"repliedAt\",\n      \"properties\": {\n        \"dtype\": \"object\",\n        \"num_unique_values\": 19046,\n        \"samples\": [\n          \"2025-02-18 08:42:07\",\n          \"2025-04-07 01:16:11\",\n          \"2024-11-19 09:58:29\"\n        ],\n        \"semantic_type\": \"\",\n        \"description\": \"\"\n      }\n    },\n    {\n      \"column\": \"appVersion\",\n      \"properties\": {\n        \"dtype\": \"category\",\n        \"num_unique_values\": 7,\n        \"samples\": [\n          \"1.3.0\",\n          \"1.3.1\",\n          \"1.0.1\"\n        ],\n        \"semantic_type\": \"\",\n        \"description\": \"\"\n      }\n    }\n  ]\n}"
            }
          },
          "metadata": {},
          "execution_count": 13
        }
      ]
    },
    {
      "cell_type": "code",
      "source": [
        "df.shape"
      ],
      "metadata": {
        "colab": {
          "base_uri": "https://localhost:8080/"
        },
        "id": "e0kelcmus16L",
        "outputId": "ae0d9cb1-0e57-4c89-da44-3722cc1a9f2e"
      },
      "execution_count": 14,
      "outputs": [
        {
          "output_type": "execute_result",
          "data": {
            "text/plain": [
              "(32636, 11)"
            ]
          },
          "metadata": {},
          "execution_count": 14
        }
      ]
    },
    {
      "cell_type": "code",
      "source": [
        "df.info()"
      ],
      "metadata": {
        "colab": {
          "base_uri": "https://localhost:8080/"
        },
        "id": "hcNOwNrns37T",
        "outputId": "2d601538-cec9-449b-a8b7-36d9085a9baa"
      },
      "execution_count": 15,
      "outputs": [
        {
          "output_type": "stream",
          "name": "stdout",
          "text": [
            "<class 'pandas.core.frame.DataFrame'>\n",
            "RangeIndex: 32636 entries, 0 to 32635\n",
            "Data columns (total 11 columns):\n",
            " #   Column                Non-Null Count  Dtype \n",
            "---  ------                --------------  ----- \n",
            " 0   reviewId              32636 non-null  object\n",
            " 1   userName              32636 non-null  object\n",
            " 2   userImage             32636 non-null  object\n",
            " 3   content               32636 non-null  object\n",
            " 4   score                 32636 non-null  int64 \n",
            " 5   thumbsUpCount         32636 non-null  int64 \n",
            " 6   reviewCreatedVersion  28874 non-null  object\n",
            " 7   at                    32636 non-null  object\n",
            " 8   replyContent          19064 non-null  object\n",
            " 9   repliedAt             19064 non-null  object\n",
            " 10  appVersion            28874 non-null  object\n",
            "dtypes: int64(2), object(9)\n",
            "memory usage: 2.7+ MB\n"
          ]
        }
      ]
    },
    {
      "cell_type": "code",
      "source": [
        "# Membuat DataFrame baru (clean_df) dengan menghapus baris yang memiliki nilai yang hilang (NaN) dari app_reviews_df\n",
        "clean_df = app_reviews_df.dropna()"
      ],
      "metadata": {
        "id": "N4lNU0JktCIF"
      },
      "execution_count": 16,
      "outputs": []
    },
    {
      "cell_type": "code",
      "source": [
        "# Menampilkan informasi tentang DataFrame clean_df setelah membersihkan nilai yang hilang (NaN)\n",
        "clean_df.info()"
      ],
      "metadata": {
        "colab": {
          "base_uri": "https://localhost:8080/"
        },
        "id": "G0mRYWTVtGyy",
        "outputId": "3474c3c0-86e1-41d8-b5c1-26de497247d9"
      },
      "execution_count": 17,
      "outputs": [
        {
          "output_type": "stream",
          "name": "stdout",
          "text": [
            "<class 'pandas.core.frame.DataFrame'>\n",
            "Index: 16120 entries, 0 to 31451\n",
            "Data columns (total 11 columns):\n",
            " #   Column                Non-Null Count  Dtype         \n",
            "---  ------                --------------  -----         \n",
            " 0   reviewId              16120 non-null  object        \n",
            " 1   userName              16120 non-null  object        \n",
            " 2   userImage             16120 non-null  object        \n",
            " 3   content               16120 non-null  object        \n",
            " 4   score                 16120 non-null  int64         \n",
            " 5   thumbsUpCount         16120 non-null  int64         \n",
            " 6   reviewCreatedVersion  16120 non-null  object        \n",
            " 7   at                    16120 non-null  datetime64[ns]\n",
            " 8   replyContent          16120 non-null  object        \n",
            " 9   repliedAt             16120 non-null  datetime64[ns]\n",
            " 10  appVersion            16120 non-null  object        \n",
            "dtypes: datetime64[ns](2), int64(2), object(7)\n",
            "memory usage: 1.5+ MB\n"
          ]
        }
      ]
    },
    {
      "cell_type": "code",
      "source": [
        "# Menghapus baris duplikat dari DataFrame clean_df\n",
        "clean_df = clean_df.drop_duplicates()\n",
        "\n",
        "# Menghitung jumlah baris dan kolom dalam DataFrame clean_df setelah menghapus duplikat\n",
        "jumlah_ulasan_setelah_hapus_duplikat, jumlah_kolom_setelah_hapus_duplikat = clean_df.shape"
      ],
      "metadata": {
        "id": "eQRGzdCDtJb1"
      },
      "execution_count": 18,
      "outputs": []
    },
    {
      "cell_type": "code",
      "source": [
        "df.drop(['reviewId', 'userName', 'userImage','thumbsUpCount', 'reviewCreatedVersion', 'replyContent',\n",
        "       'repliedAt', 'appVersion','at'], axis=1, inplace=True)\n",
        "df.head()"
      ],
      "metadata": {
        "colab": {
          "base_uri": "https://localhost:8080/",
          "height": 206
        },
        "id": "v2VMaR-ytN2b",
        "outputId": "79433544-fd8d-49f3-fbc6-f924310d7671"
      },
      "execution_count": 20,
      "outputs": [
        {
          "output_type": "execute_result",
          "data": {
            "text/plain": [
              "                                             content  score\n",
              "0  mudah d pahami,dan registrasi ny jg gk ribet. ...      1\n",
              "1  Secara keseluruhan sdh oke. Hanya saja Tolong ...      4\n",
              "2  verifikasi wajah selalu gagal trus...udh serin...      1\n",
              "3  Baru beberapa hari menggunakan, masih kurang t...      3\n",
              "4  Pendaftarannya kok ribet amat, padahal sudah p...      3"
            ],
            "text/html": [
              "\n",
              "  <div id=\"df-f0e3862e-fc6c-461c-a266-3c64fcd1970b\" class=\"colab-df-container\">\n",
              "    <div>\n",
              "<style scoped>\n",
              "    .dataframe tbody tr th:only-of-type {\n",
              "        vertical-align: middle;\n",
              "    }\n",
              "\n",
              "    .dataframe tbody tr th {\n",
              "        vertical-align: top;\n",
              "    }\n",
              "\n",
              "    .dataframe thead th {\n",
              "        text-align: right;\n",
              "    }\n",
              "</style>\n",
              "<table border=\"1\" class=\"dataframe\">\n",
              "  <thead>\n",
              "    <tr style=\"text-align: right;\">\n",
              "      <th></th>\n",
              "      <th>content</th>\n",
              "      <th>score</th>\n",
              "    </tr>\n",
              "  </thead>\n",
              "  <tbody>\n",
              "    <tr>\n",
              "      <th>0</th>\n",
              "      <td>mudah d pahami,dan registrasi ny jg gk ribet. ...</td>\n",
              "      <td>1</td>\n",
              "    </tr>\n",
              "    <tr>\n",
              "      <th>1</th>\n",
              "      <td>Secara keseluruhan sdh oke. Hanya saja Tolong ...</td>\n",
              "      <td>4</td>\n",
              "    </tr>\n",
              "    <tr>\n",
              "      <th>2</th>\n",
              "      <td>verifikasi wajah selalu gagal trus...udh serin...</td>\n",
              "      <td>1</td>\n",
              "    </tr>\n",
              "    <tr>\n",
              "      <th>3</th>\n",
              "      <td>Baru beberapa hari menggunakan, masih kurang t...</td>\n",
              "      <td>3</td>\n",
              "    </tr>\n",
              "    <tr>\n",
              "      <th>4</th>\n",
              "      <td>Pendaftarannya kok ribet amat, padahal sudah p...</td>\n",
              "      <td>3</td>\n",
              "    </tr>\n",
              "  </tbody>\n",
              "</table>\n",
              "</div>\n",
              "    <div class=\"colab-df-buttons\">\n",
              "\n",
              "  <div class=\"colab-df-container\">\n",
              "    <button class=\"colab-df-convert\" onclick=\"convertToInteractive('df-f0e3862e-fc6c-461c-a266-3c64fcd1970b')\"\n",
              "            title=\"Convert this dataframe to an interactive table.\"\n",
              "            style=\"display:none;\">\n",
              "\n",
              "  <svg xmlns=\"http://www.w3.org/2000/svg\" height=\"24px\" viewBox=\"0 -960 960 960\">\n",
              "    <path d=\"M120-120v-720h720v720H120Zm60-500h600v-160H180v160Zm220 220h160v-160H400v160Zm0 220h160v-160H400v160ZM180-400h160v-160H180v160Zm440 0h160v-160H620v160ZM180-180h160v-160H180v160Zm440 0h160v-160H620v160Z\"/>\n",
              "  </svg>\n",
              "    </button>\n",
              "\n",
              "  <style>\n",
              "    .colab-df-container {\n",
              "      display:flex;\n",
              "      gap: 12px;\n",
              "    }\n",
              "\n",
              "    .colab-df-convert {\n",
              "      background-color: #E8F0FE;\n",
              "      border: none;\n",
              "      border-radius: 50%;\n",
              "      cursor: pointer;\n",
              "      display: none;\n",
              "      fill: #1967D2;\n",
              "      height: 32px;\n",
              "      padding: 0 0 0 0;\n",
              "      width: 32px;\n",
              "    }\n",
              "\n",
              "    .colab-df-convert:hover {\n",
              "      background-color: #E2EBFA;\n",
              "      box-shadow: 0px 1px 2px rgba(60, 64, 67, 0.3), 0px 1px 3px 1px rgba(60, 64, 67, 0.15);\n",
              "      fill: #174EA6;\n",
              "    }\n",
              "\n",
              "    .colab-df-buttons div {\n",
              "      margin-bottom: 4px;\n",
              "    }\n",
              "\n",
              "    [theme=dark] .colab-df-convert {\n",
              "      background-color: #3B4455;\n",
              "      fill: #D2E3FC;\n",
              "    }\n",
              "\n",
              "    [theme=dark] .colab-df-convert:hover {\n",
              "      background-color: #434B5C;\n",
              "      box-shadow: 0px 1px 3px 1px rgba(0, 0, 0, 0.15);\n",
              "      filter: drop-shadow(0px 1px 2px rgba(0, 0, 0, 0.3));\n",
              "      fill: #FFFFFF;\n",
              "    }\n",
              "  </style>\n",
              "\n",
              "    <script>\n",
              "      const buttonEl =\n",
              "        document.querySelector('#df-f0e3862e-fc6c-461c-a266-3c64fcd1970b button.colab-df-convert');\n",
              "      buttonEl.style.display =\n",
              "        google.colab.kernel.accessAllowed ? 'block' : 'none';\n",
              "\n",
              "      async function convertToInteractive(key) {\n",
              "        const element = document.querySelector('#df-f0e3862e-fc6c-461c-a266-3c64fcd1970b');\n",
              "        const dataTable =\n",
              "          await google.colab.kernel.invokeFunction('convertToInteractive',\n",
              "                                                    [key], {});\n",
              "        if (!dataTable) return;\n",
              "\n",
              "        const docLinkHtml = 'Like what you see? Visit the ' +\n",
              "          '<a target=\"_blank\" href=https://colab.research.google.com/notebooks/data_table.ipynb>data table notebook</a>'\n",
              "          + ' to learn more about interactive tables.';\n",
              "        element.innerHTML = '';\n",
              "        dataTable['output_type'] = 'display_data';\n",
              "        await google.colab.output.renderOutput(dataTable, element);\n",
              "        const docLink = document.createElement('div');\n",
              "        docLink.innerHTML = docLinkHtml;\n",
              "        element.appendChild(docLink);\n",
              "      }\n",
              "    </script>\n",
              "  </div>\n",
              "\n",
              "\n",
              "<div id=\"df-3f416710-474f-4d1f-8f0d-0b882b240e1b\">\n",
              "  <button class=\"colab-df-quickchart\" onclick=\"quickchart('df-3f416710-474f-4d1f-8f0d-0b882b240e1b')\"\n",
              "            title=\"Suggest charts\"\n",
              "            style=\"display:none;\">\n",
              "\n",
              "<svg xmlns=\"http://www.w3.org/2000/svg\" height=\"24px\"viewBox=\"0 0 24 24\"\n",
              "     width=\"24px\">\n",
              "    <g>\n",
              "        <path d=\"M19 3H5c-1.1 0-2 .9-2 2v14c0 1.1.9 2 2 2h14c1.1 0 2-.9 2-2V5c0-1.1-.9-2-2-2zM9 17H7v-7h2v7zm4 0h-2V7h2v10zm4 0h-2v-4h2v4z\"/>\n",
              "    </g>\n",
              "</svg>\n",
              "  </button>\n",
              "\n",
              "<style>\n",
              "  .colab-df-quickchart {\n",
              "      --bg-color: #E8F0FE;\n",
              "      --fill-color: #1967D2;\n",
              "      --hover-bg-color: #E2EBFA;\n",
              "      --hover-fill-color: #174EA6;\n",
              "      --disabled-fill-color: #AAA;\n",
              "      --disabled-bg-color: #DDD;\n",
              "  }\n",
              "\n",
              "  [theme=dark] .colab-df-quickchart {\n",
              "      --bg-color: #3B4455;\n",
              "      --fill-color: #D2E3FC;\n",
              "      --hover-bg-color: #434B5C;\n",
              "      --hover-fill-color: #FFFFFF;\n",
              "      --disabled-bg-color: #3B4455;\n",
              "      --disabled-fill-color: #666;\n",
              "  }\n",
              "\n",
              "  .colab-df-quickchart {\n",
              "    background-color: var(--bg-color);\n",
              "    border: none;\n",
              "    border-radius: 50%;\n",
              "    cursor: pointer;\n",
              "    display: none;\n",
              "    fill: var(--fill-color);\n",
              "    height: 32px;\n",
              "    padding: 0;\n",
              "    width: 32px;\n",
              "  }\n",
              "\n",
              "  .colab-df-quickchart:hover {\n",
              "    background-color: var(--hover-bg-color);\n",
              "    box-shadow: 0 1px 2px rgba(60, 64, 67, 0.3), 0 1px 3px 1px rgba(60, 64, 67, 0.15);\n",
              "    fill: var(--button-hover-fill-color);\n",
              "  }\n",
              "\n",
              "  .colab-df-quickchart-complete:disabled,\n",
              "  .colab-df-quickchart-complete:disabled:hover {\n",
              "    background-color: var(--disabled-bg-color);\n",
              "    fill: var(--disabled-fill-color);\n",
              "    box-shadow: none;\n",
              "  }\n",
              "\n",
              "  .colab-df-spinner {\n",
              "    border: 2px solid var(--fill-color);\n",
              "    border-color: transparent;\n",
              "    border-bottom-color: var(--fill-color);\n",
              "    animation:\n",
              "      spin 1s steps(1) infinite;\n",
              "  }\n",
              "\n",
              "  @keyframes spin {\n",
              "    0% {\n",
              "      border-color: transparent;\n",
              "      border-bottom-color: var(--fill-color);\n",
              "      border-left-color: var(--fill-color);\n",
              "    }\n",
              "    20% {\n",
              "      border-color: transparent;\n",
              "      border-left-color: var(--fill-color);\n",
              "      border-top-color: var(--fill-color);\n",
              "    }\n",
              "    30% {\n",
              "      border-color: transparent;\n",
              "      border-left-color: var(--fill-color);\n",
              "      border-top-color: var(--fill-color);\n",
              "      border-right-color: var(--fill-color);\n",
              "    }\n",
              "    40% {\n",
              "      border-color: transparent;\n",
              "      border-right-color: var(--fill-color);\n",
              "      border-top-color: var(--fill-color);\n",
              "    }\n",
              "    60% {\n",
              "      border-color: transparent;\n",
              "      border-right-color: var(--fill-color);\n",
              "    }\n",
              "    80% {\n",
              "      border-color: transparent;\n",
              "      border-right-color: var(--fill-color);\n",
              "      border-bottom-color: var(--fill-color);\n",
              "    }\n",
              "    90% {\n",
              "      border-color: transparent;\n",
              "      border-bottom-color: var(--fill-color);\n",
              "    }\n",
              "  }\n",
              "</style>\n",
              "\n",
              "  <script>\n",
              "    async function quickchart(key) {\n",
              "      const quickchartButtonEl =\n",
              "        document.querySelector('#' + key + ' button');\n",
              "      quickchartButtonEl.disabled = true;  // To prevent multiple clicks.\n",
              "      quickchartButtonEl.classList.add('colab-df-spinner');\n",
              "      try {\n",
              "        const charts = await google.colab.kernel.invokeFunction(\n",
              "            'suggestCharts', [key], {});\n",
              "      } catch (error) {\n",
              "        console.error('Error during call to suggestCharts:', error);\n",
              "      }\n",
              "      quickchartButtonEl.classList.remove('colab-df-spinner');\n",
              "      quickchartButtonEl.classList.add('colab-df-quickchart-complete');\n",
              "    }\n",
              "    (() => {\n",
              "      let quickchartButtonEl =\n",
              "        document.querySelector('#df-3f416710-474f-4d1f-8f0d-0b882b240e1b button');\n",
              "      quickchartButtonEl.style.display =\n",
              "        google.colab.kernel.accessAllowed ? 'block' : 'none';\n",
              "    })();\n",
              "  </script>\n",
              "</div>\n",
              "\n",
              "    </div>\n",
              "  </div>\n"
            ],
            "application/vnd.google.colaboratory.intrinsic+json": {
              "type": "dataframe",
              "variable_name": "df",
              "summary": "{\n  \"name\": \"df\",\n  \"rows\": 32636,\n  \"fields\": [\n    {\n      \"column\": \"content\",\n      \"properties\": {\n        \"dtype\": \"string\",\n        \"num_unique_values\": 25759,\n        \"samples\": [\n          \"is the best\",\n          \"Ini maksudnya gimana ya aplikasi bni mobil mau di ganti atau aktif semua?kok jadi tambah aplikasi,bukannya tambah simple kok malah harus pindah2 aplikasi\",\n          \"sangat membantu dgn tampilan menarik\"\n        ],\n        \"semantic_type\": \"\",\n        \"description\": \"\"\n      }\n    },\n    {\n      \"column\": \"score\",\n      \"properties\": {\n        \"dtype\": \"number\",\n        \"std\": 1,\n        \"min\": 1,\n        \"max\": 5,\n        \"num_unique_values\": 5,\n        \"samples\": [\n          4,\n          5,\n          3\n        ],\n        \"semantic_type\": \"\",\n        \"description\": \"\"\n      }\n    }\n  ]\n}"
            }
          },
          "metadata": {},
          "execution_count": 20
        }
      ]
    },
    {
      "cell_type": "code",
      "source": [
        "df.isnull().sum()"
      ],
      "metadata": {
        "colab": {
          "base_uri": "https://localhost:8080/",
          "height": 147
        },
        "id": "T9Md9Dg0tSS5",
        "outputId": "d91c02da-3347-43fc-a72f-03c66d67f9ea"
      },
      "execution_count": 21,
      "outputs": [
        {
          "output_type": "execute_result",
          "data": {
            "text/plain": [
              "content    0\n",
              "score      0\n",
              "dtype: int64"
            ],
            "text/html": [
              "<div>\n",
              "<style scoped>\n",
              "    .dataframe tbody tr th:only-of-type {\n",
              "        vertical-align: middle;\n",
              "    }\n",
              "\n",
              "    .dataframe tbody tr th {\n",
              "        vertical-align: top;\n",
              "    }\n",
              "\n",
              "    .dataframe thead th {\n",
              "        text-align: right;\n",
              "    }\n",
              "</style>\n",
              "<table border=\"1\" class=\"dataframe\">\n",
              "  <thead>\n",
              "    <tr style=\"text-align: right;\">\n",
              "      <th></th>\n",
              "      <th>0</th>\n",
              "    </tr>\n",
              "  </thead>\n",
              "  <tbody>\n",
              "    <tr>\n",
              "      <th>content</th>\n",
              "      <td>0</td>\n",
              "    </tr>\n",
              "    <tr>\n",
              "      <th>score</th>\n",
              "      <td>0</td>\n",
              "    </tr>\n",
              "  </tbody>\n",
              "</table>\n",
              "</div><br><label><b>dtype:</b> int64</label>"
            ]
          },
          "metadata": {},
          "execution_count": 21
        }
      ]
    },
    {
      "cell_type": "code",
      "source": [
        "df.duplicated().sum()"
      ],
      "metadata": {
        "colab": {
          "base_uri": "https://localhost:8080/"
        },
        "id": "5QUWU66ntT9-",
        "outputId": "b78eb6b4-79c0-479f-bc93-53b9eb7a141c"
      },
      "execution_count": 22,
      "outputs": [
        {
          "output_type": "execute_result",
          "data": {
            "text/plain": [
              "np.int64(6601)"
            ]
          },
          "metadata": {},
          "execution_count": 22
        }
      ]
    },
    {
      "cell_type": "code",
      "source": [
        "df.drop_duplicates(inplace=True)"
      ],
      "metadata": {
        "id": "DGKF589TtV9R"
      },
      "execution_count": 24,
      "outputs": []
    },
    {
      "cell_type": "code",
      "source": [
        "# Menghapus indeks\n",
        "df.reset_index(drop=True, inplace=True)\n",
        "df.duplicated().sum()"
      ],
      "metadata": {
        "colab": {
          "base_uri": "https://localhost:8080/"
        },
        "id": "yTAkT5QhtZTO",
        "outputId": "44a779ee-b503-4807-ffc3-c5229f13662c"
      },
      "execution_count": 26,
      "outputs": [
        {
          "output_type": "execute_result",
          "data": {
            "text/plain": [
              "np.int64(0)"
            ]
          },
          "metadata": {},
          "execution_count": 26
        }
      ]
    },
    {
      "cell_type": "code",
      "source": [
        "# mendownload hasil ulasan dalam file csv\n",
        "from google.colab import files\n",
        "\n",
        "df.to_csv('clean_ulasan_wondr_bni.csv',index=False)\n",
        "\n",
        "files.download('ulasan_wondr_bni.csv')\n",
        "files.download('clean_ulasan_wondr_bni.csv')\n",
        "\n",
        "print(\"file ulasan sudah berhasil didownload!\")"
      ],
      "metadata": {
        "colab": {
          "base_uri": "https://localhost:8080/",
          "height": 34
        },
        "id": "TlecUtKwtfFq",
        "outputId": "48525b76-cc65-4c38-8e39-e33895e357f8"
      },
      "execution_count": 27,
      "outputs": [
        {
          "output_type": "display_data",
          "data": {
            "text/plain": [
              "<IPython.core.display.Javascript object>"
            ],
            "application/javascript": [
              "\n",
              "    async function download(id, filename, size) {\n",
              "      if (!google.colab.kernel.accessAllowed) {\n",
              "        return;\n",
              "      }\n",
              "      const div = document.createElement('div');\n",
              "      const label = document.createElement('label');\n",
              "      label.textContent = `Downloading \"${filename}\": `;\n",
              "      div.appendChild(label);\n",
              "      const progress = document.createElement('progress');\n",
              "      progress.max = size;\n",
              "      div.appendChild(progress);\n",
              "      document.body.appendChild(div);\n",
              "\n",
              "      const buffers = [];\n",
              "      let downloaded = 0;\n",
              "\n",
              "      const channel = await google.colab.kernel.comms.open(id);\n",
              "      // Send a message to notify the kernel that we're ready.\n",
              "      channel.send({})\n",
              "\n",
              "      for await (const message of channel.messages) {\n",
              "        // Send a message to notify the kernel that we're ready.\n",
              "        channel.send({})\n",
              "        if (message.buffers) {\n",
              "          for (const buffer of message.buffers) {\n",
              "            buffers.push(buffer);\n",
              "            downloaded += buffer.byteLength;\n",
              "            progress.value = downloaded;\n",
              "          }\n",
              "        }\n",
              "      }\n",
              "      const blob = new Blob(buffers, {type: 'application/binary'});\n",
              "      const a = document.createElement('a');\n",
              "      a.href = window.URL.createObjectURL(blob);\n",
              "      a.download = filename;\n",
              "      div.appendChild(a);\n",
              "      a.click();\n",
              "      div.remove();\n",
              "    }\n",
              "  "
            ]
          },
          "metadata": {}
        },
        {
          "output_type": "display_data",
          "data": {
            "text/plain": [
              "<IPython.core.display.Javascript object>"
            ],
            "application/javascript": [
              "download(\"download_9eafeb3a-c837-4f7c-893b-47d7234d62c8\", \"ulasan_wondr_bni.csv\", 14454867)"
            ]
          },
          "metadata": {}
        },
        {
          "output_type": "display_data",
          "data": {
            "text/plain": [
              "<IPython.core.display.Javascript object>"
            ],
            "application/javascript": [
              "\n",
              "    async function download(id, filename, size) {\n",
              "      if (!google.colab.kernel.accessAllowed) {\n",
              "        return;\n",
              "      }\n",
              "      const div = document.createElement('div');\n",
              "      const label = document.createElement('label');\n",
              "      label.textContent = `Downloading \"${filename}\": `;\n",
              "      div.appendChild(label);\n",
              "      const progress = document.createElement('progress');\n",
              "      progress.max = size;\n",
              "      div.appendChild(progress);\n",
              "      document.body.appendChild(div);\n",
              "\n",
              "      const buffers = [];\n",
              "      let downloaded = 0;\n",
              "\n",
              "      const channel = await google.colab.kernel.comms.open(id);\n",
              "      // Send a message to notify the kernel that we're ready.\n",
              "      channel.send({})\n",
              "\n",
              "      for await (const message of channel.messages) {\n",
              "        // Send a message to notify the kernel that we're ready.\n",
              "        channel.send({})\n",
              "        if (message.buffers) {\n",
              "          for (const buffer of message.buffers) {\n",
              "            buffers.push(buffer);\n",
              "            downloaded += buffer.byteLength;\n",
              "            progress.value = downloaded;\n",
              "          }\n",
              "        }\n",
              "      }\n",
              "      const blob = new Blob(buffers, {type: 'application/binary'});\n",
              "      const a = document.createElement('a');\n",
              "      a.href = window.URL.createObjectURL(blob);\n",
              "      a.download = filename;\n",
              "      div.appendChild(a);\n",
              "      a.click();\n",
              "      div.remove();\n",
              "    }\n",
              "  "
            ]
          },
          "metadata": {}
        },
        {
          "output_type": "display_data",
          "data": {
            "text/plain": [
              "<IPython.core.display.Javascript object>"
            ],
            "application/javascript": [
              "download(\"download_ad604484-c275-4dd9-bf7c-83421f4da7c0\", \"clean_ulasan_wondr_bni.csv\", 2156453)"
            ]
          },
          "metadata": {}
        },
        {
          "output_type": "stream",
          "name": "stdout",
          "text": [
            "file ulasan sudah berhasil didownload!\n"
          ]
        }
      ]
    }
  ]
}